{
 "cells": [
  {
   "cell_type": "code",
   "execution_count": 1,
   "metadata": {},
   "outputs": [
    {
     "name": "stdout",
     "output_type": "stream",
     "text": [
      "       community_name 万科第五园 3室1厅 249平米(1***) 万科第五园 3室2厅 160_59平米(835)  \\\n",
      "0    Task_sold_河滨城市花园                    NaN                      NaN   \n",
      "1      Task_sold_星颂家园                    NaN                      NaN   \n",
      "2      Task_sold_中虹家园                    NaN                      NaN   \n",
      "3  Task_sold_金领国际(公寓)                    NaN                      NaN   \n",
      "4       Task_sold_阳光苑                    NaN                      NaN   \n",
      "\n",
      "  万科第五园 3室2厅 187_36平米(950) 万科第五园 4室2厅 167_68平米(665) 万科第五园 4室2厅 234_17平米(1070)  \\\n",
      "0                      NaN                      NaN                       NaN   \n",
      "1                      NaN                      NaN                       NaN   \n",
      "2                      NaN                      NaN                       NaN   \n",
      "3                      NaN                      NaN                       NaN   \n",
      "4                      NaN                      NaN                       NaN   \n",
      "\n",
      "  万科第五园 4室2厅 290平米(975) 万科第五园 4室2厅 291_06平米(1380) 万科第五园 4室4厅 291_16平米(1180)  \\\n",
      "0                   NaN                       NaN                       NaN   \n",
      "1                   NaN                       NaN                       NaN   \n",
      "2                   NaN                       NaN                       NaN   \n",
      "3                   NaN                       NaN                       NaN   \n",
      "4                   NaN                       NaN                       NaN   \n",
      "\n",
      "  万科第五园 5室3厅 160_59平米(640)  ... 龚路新城 2室2厅 86_39平米(191) 龚路新城 2室2厅 86_39平米(250)  \\\n",
      "0                      NaN  ...                    NaN                    NaN   \n",
      "1                      NaN  ...                    NaN                    NaN   \n",
      "2                      NaN  ...                    NaN                    NaN   \n",
      "3                      NaN  ...                    NaN                    NaN   \n",
      "4                      NaN  ...                    NaN                    NaN   \n",
      "\n",
      "  龚路新城 2室2厅 86_39平米(268) 龚路新城 2室2厅 86_39平米(300) 龚路新城 2室2厅 86_39平米(318_8)  \\\n",
      "0                    NaN                    NaN                      NaN   \n",
      "1                    NaN                    NaN                      NaN   \n",
      "2                    NaN                    NaN                      NaN   \n",
      "3                    NaN                    NaN                      NaN   \n",
      "4                    NaN                    NaN                      NaN   \n",
      "\n",
      "  龚路新城 2室2厅 86_5平米(340) 龚路新城 3室2厅 100_29平米(192) 龚路新城 3室2厅 100_29平米(305)  \\\n",
      "0                   NaN                     NaN                     NaN   \n",
      "1                   NaN                     NaN                     NaN   \n",
      "2                   NaN                     NaN                     NaN   \n",
      "3                   NaN                     NaN                     NaN   \n",
      "4                   NaN                     NaN                     NaN   \n",
      "\n",
      "  龚路新城 3室2厅 100_47平米(330) 龚路新城 3室2厅 120_41平米(290)  \n",
      "0                     NaN                     NaN  \n",
      "1                     NaN                     NaN  \n",
      "2                     NaN                     NaN  \n",
      "3                     NaN                     NaN  \n",
      "4                     NaN                     NaN  \n",
      "\n",
      "[5 rows x 1128 columns]\n"
     ]
    }
   ],
   "source": [
    "import pymongo\n",
    "import pandas\n",
    "\n",
    "# mongodb服务的地址和端口号\n",
    "mongo_url = \"127.0.0.1:27017\"\n",
    "# mongo_port = 27017\n",
    "\n",
    "# 连接到mongodb，如果参数不填，默认为“localhost:27017”\n",
    "client = pymongo.MongoClient(mongo_url)\n",
    "\n",
    "#连接到数据库myDatabase\n",
    "DATABASE = \"PuDong_Sold\"\n",
    "db = client[DATABASE]\n",
    "\n",
    "coll = db['Task_caolu']\n",
    "\n",
    "# data = coll.find({})\n",
    "# print(data.count())\n",
    "# while True:\n",
    "#     try:\n",
    "#         print(data.next())\n",
    "#     except StopIteration:\n",
    "#         break\n",
    "\n",
    "data = pandas.DataFrame(coll.find({}))\n",
    "data.fillna(value=0)\n",
    "\n",
    "\n",
    "# 删除mongodb中的_id字段\n",
    "del data['_id']\n",
    "\n",
    "print(data.head(5))\n"
   ]
  },
  {
   "cell_type": "code",
   "execution_count": 5,
   "metadata": {},
   "outputs": [
    {
     "name": "stdout",
     "output_type": "stream",
     "text": [
      "   a\n",
      "0  A\n"
     ]
    }
   ],
   "source": [
    "import pandas\n",
    "\n",
    "pd = pandas.DataFrame([{'a':'A'}])\n",
    "print(pd)\n",
    "#pd.DataFrame({'b':'B'})\n",
    "#print(pd)"
   ]
  },
  {
   "cell_type": "code",
   "execution_count": 8,
   "metadata": {
    "scrolled": true
   },
   "outputs": [
    {
     "name": "stdout",
     "output_type": "stream",
     "text": [
      "   a\n",
      "0  A\n",
      "   a\n",
      "0  A\n"
     ]
    }
   ],
   "source": [
    "import pandas\n",
    "\n",
    "pd = pandas.DataFrame([{'a':'A'}])\n",
    "print(pd)\n",
    "pd.append([{'b':'B'}])\n",
    "print(pd)"
   ]
  },
  {
   "cell_type": "code",
   "execution_count": 9,
   "metadata": {},
   "outputs": [],
   "source": [
    "pd = pandas.DataFrame({'1':[1,2,3],\n",
    "                      '2':[4,5,6],\n",
    "                       '3':[7,8,9]\n",
    "                      })"
   ]
  },
  {
   "cell_type": "code",
   "execution_count": 10,
   "metadata": {},
   "outputs": [
    {
     "name": "stdout",
     "output_type": "stream",
     "text": [
      "   1  2  3\n",
      "0  1  4  7\n",
      "1  2  5  8\n",
      "2  3  6  9\n"
     ]
    }
   ],
   "source": [
    "print(pd)"
   ]
  },
  {
   "cell_type": "code",
   "execution_count": null,
   "metadata": {},
   "outputs": [],
   "source": []
  }
 ],
 "metadata": {
  "kernelspec": {
   "display_name": "data_analysis",
   "language": "python",
   "name": "data_analysis"
  },
  "language_info": {
   "codemirror_mode": {
    "name": "ipython",
    "version": 3
   },
   "file_extension": ".py",
   "mimetype": "text/x-python",
   "name": "python",
   "nbconvert_exporter": "python",
   "pygments_lexer": "ipython3",
   "version": "3.6.7"
  }
 },
 "nbformat": 4,
 "nbformat_minor": 2
}
