{
 "cells": [
  {
   "cell_type": "code",
   "execution_count": 1,
   "metadata": {
    "collapsed": true
   },
   "outputs": [
    {
     "name": "stderr",
     "output_type": "stream",
     "text": [
      "C:\\ProgramData\\Anaconda3\\envs\\py3.6\\lib\\site-packages\\tushare\\stock\\trading.py:182: FutureWarning: read_table is deprecated, use read_csv instead, passing sep='\\t'.\n",
      "  skiprows=[0])\n"
     ]
    }
   ],
   "source": [
    "import tushare as ts\n",
    "import pandas as pd\n",
    "import datetime as dt\n",
    "import matplotlib.pyplot as plt\n",
    "RJ_data = pd.DataFrame()\n",
    "for i in ['15','16','17','18','19']:\n",
    "    day = '2019-04-'+i\n",
    "    df = ts.get_tick_data('002192', date=day, src='tt')\n",
    "    df['time'] = day+' '+df['time']\n",
    "    df['time'] = df['time'].apply(lambda t: dt.datetime.strptime(t, '%Y-%m-%d %H:%M:%S'))\n",
    "    # print(df.info())\n",
    "    if len(RJ_data) == 0:\n",
    "        RJ_data = df\n",
    "    else:\n",
    "        # RJ_data.append(df[['time','price',  'change',  'volume',   'amount', 'type']])\n",
    "        RJ_data = RJ_data.append(df,ignore_index=True)"
   ]
  },
  {
   "cell_type": "code",
   "execution_count": 5,
   "metadata": {
    "collapsed": true
   },
   "outputs": [
    {
     "name": "stderr",
     "output_type": "stream",
     "text": [
      "C:\\ProgramData\\Anaconda3\\envs\\py3.6\\lib\\site-packages\\ipykernel_launcher.py:3: FutureWarning: how in .resample() is deprecated\n",
      "the new syntax is .resample(...).mean()\n",
      "  This is separate from the ipykernel package so we can avoid doing imports until\n"
     ]
    },
    {
     "data": {
      "text/html": [
       "<div>\n",
       "<style scoped>\n",
       "    .dataframe tbody tr th:only-of-type {\n",
       "        vertical-align: middle;\n",
       "    }\n",
       "\n",
       "    .dataframe tbody tr th {\n",
       "        vertical-align: top;\n",
       "    }\n",
       "\n",
       "    .dataframe thead th {\n",
       "        text-align: right;\n",
       "    }\n",
       "</style>\n",
       "<table border=\"1\" class=\"dataframe\">\n",
       "  <thead>\n",
       "    <tr style=\"text-align: right;\">\n",
       "      <th></th>\n",
       "      <th>price</th>\n",
       "      <th>change</th>\n",
       "      <th>volume</th>\n",
       "      <th>amount</th>\n",
       "    </tr>\n",
       "    <tr>\n",
       "      <th>time</th>\n",
       "      <th></th>\n",
       "      <th></th>\n",
       "      <th></th>\n",
       "      <th></th>\n",
       "    </tr>\n",
       "  </thead>\n",
       "  <tbody>\n",
       "    <tr>\n",
       "      <th>2019-04-15 09:25:00</th>\n",
       "      <td>28.60</td>\n",
       "      <td>-0.68</td>\n",
       "      <td>1081.00</td>\n",
       "      <td>3091660.00</td>\n",
       "    </tr>\n",
       "    <tr>\n",
       "      <th>2019-04-15 09:30:00</th>\n",
       "      <td>29.19</td>\n",
       "      <td>0.01</td>\n",
       "      <td>73.38</td>\n",
       "      <td>212229.38</td>\n",
       "    </tr>\n",
       "    <tr>\n",
       "      <th>2019-04-15 09:35:00</th>\n",
       "      <td>29.88</td>\n",
       "      <td>-0.00</td>\n",
       "      <td>64.09</td>\n",
       "      <td>191474.94</td>\n",
       "    </tr>\n",
       "    <tr>\n",
       "      <th>2019-04-15 09:40:00</th>\n",
       "      <td>29.70</td>\n",
       "      <td>-0.00</td>\n",
       "      <td>28.62</td>\n",
       "      <td>84989.55</td>\n",
       "    </tr>\n",
       "    <tr>\n",
       "      <th>2019-04-15 09:45:00</th>\n",
       "      <td>29.80</td>\n",
       "      <td>0.00</td>\n",
       "      <td>24.42</td>\n",
       "      <td>72766.15</td>\n",
       "    </tr>\n",
       "  </tbody>\n",
       "</table>\n",
       "</div>"
      ],
      "text/plain": [
       "                     price  change   volume      amount\n",
       "time                                                   \n",
       "2019-04-15 09:25:00  28.60   -0.68  1081.00  3091660.00\n",
       "2019-04-15 09:30:00  29.19    0.01    73.38   212229.38\n",
       "2019-04-15 09:35:00  29.88   -0.00    64.09   191474.94\n",
       "2019-04-15 09:40:00  29.70   -0.00    28.62    84989.55\n",
       "2019-04-15 09:45:00  29.80    0.00    24.42    72766.15"
      ]
     },
     "execution_count": 5,
     "metadata": {},
     "output_type": "execute_result"
    }
   ],
   "source": [
    "import numpy as np\n",
    "RJ_data.index = RJ_data['time']\n",
    "RJ_resam = RJ_data.resample(rule='5min',how='mean')\n",
    "np.round(RJ_resam.head(),2)"
   ]
  },
  {
   "cell_type": "code",
   "execution_count": null,
   "metadata": {},
   "outputs": [],
   "source": []
  }
 ],
 "metadata": {
  "kernelspec": {
   "display_name": "data_analysis",
   "language": "python",
   "name": "data_analysis"
  },
  "language_info": {
   "codemirror_mode": {
    "name": "ipython",
    "version": 3
   },
   "file_extension": ".py",
   "mimetype": "text/x-python",
   "name": "python",
   "nbconvert_exporter": "python",
   "pygments_lexer": "ipython3",
   "version": "3.6.7"
  }
 },
 "nbformat": 4,
 "nbformat_minor": 2
}
