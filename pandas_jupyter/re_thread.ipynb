{
 "cells": [
  {
   "cell_type": "code",
   "execution_count": 14,
   "metadata": {},
   "outputs": [
    {
     "data": {
      "text/plain": [
       "'0'"
      ]
     },
     "execution_count": 14,
     "metadata": {},
     "output_type": "execute_result"
    }
   ],
   "source": [
    "import re\n",
    "content = 'Xiaoshuaib has 100 bananas'\n",
    "res_01 = re.match('^Xi.*(\\d+)\\s.*s$',content)\n",
    "res_01.group(1)"
   ]
  },
  {
   "cell_type": "code",
   "execution_count": 15,
   "metadata": {},
   "outputs": [
    {
     "data": {
      "text/plain": [
       "'100'"
      ]
     },
     "execution_count": 15,
     "metadata": {},
     "output_type": "execute_result"
    }
   ],
   "source": [
    "res_02 =  re.match('^Xi.*?(\\d+)\\s.*s$',content)\n",
    "res_02.group(1)"
   ]
  },
  {
   "cell_type": "code",
   "execution_count": 19,
   "metadata": {},
   "outputs": [
    {
     "data": {
      "text/plain": [
       "'100'"
      ]
     },
     "execution_count": 19,
     "metadata": {},
     "output_type": "execute_result"
    }
   ],
   "source": [
    "content_01 = \"\"\"Xiaoshuaib has 100 \n",
    "bananas\"\"\"\n",
    "res_03 =  re.match('^Xi.*?(\\d+)\\s.*s$',content)\n",
    "res_03.group(1)\n"
   ]
  },
  {
   "cell_type": "code",
   "execution_count": 31,
   "metadata": {},
   "outputs": [
    {
     "data": {
      "text/plain": [
       "['100', '100', '100', '100']"
      ]
     },
     "execution_count": 31,
     "metadata": {},
     "output_type": "execute_result"
    }
   ],
   "source": [
    "content_02 = \"\"\"Xiaoshuaib has 100 bananas;\n",
    "Xiaoshuaib has 100 bananas;\n",
    "Xiaoshuaib has 100 bananas;\n",
    "Xiaoshuaib has 100 bananas;\"\"\"\n",
    "res_04 =  re.findall('Xi.*?(\\d+)\\s.*?s;',content_02,re.S)\n",
    "res_04"
   ]
  },
  {
   "cell_type": "code",
   "execution_count": 34,
   "metadata": {},
   "outputs": [
    {
     "ename": "SyntaxError",
     "evalue": "invalid syntax (<ipython-input-34-00021d10d397>, line 6)",
     "output_type": "error",
     "traceback": [
      "\u001b[1;36m  File \u001b[1;32m\"<ipython-input-34-00021d10d397>\"\u001b[1;36m, line \u001b[1;32m6\u001b[0m\n\u001b[1;33m    counter = counter-1\u001b[0m\n\u001b[1;37m          ^\u001b[0m\n\u001b[1;31mSyntaxError\u001b[0m\u001b[1;31m:\u001b[0m invalid syntax\n"
     ]
    }
   ],
   "source": [
    "import time \n",
    "def moyu_time(name,delay,counter):\n",
    "    while counter:\n",
    "        time.sleep(delay)\n",
    "        print('%s 开始摸鱼 %s '%(name,time.strftime(\"%Y-%m-%d %H:%M:%S\", time.localtime()))\n",
    "        counter = counter-1\n",
    "              \n",
    "class MyThread(threading.Thread):\n",
    "  def __init__(self,threadID, name, counter):\n",
    "    threading.Thread.__init__(self)\n",
    "    self.threadID = threadID\n",
    "    self.name = name\n",
    "    self.counter = counter\n",
    "\n",
    "  def run(self):\n",
    "    print(\"开始线程：\" + self.name)\n",
    "    moyu_time(self.name, self.counter, 10)\n",
    "    print(\"退出线程：\" + self.name)\n",
    "\n",
    "thread1 = MyThread(1, \"小明\", 1)\n",
    "thread2 = MyThread(2, \"小红\", 2)\n",
    "\n",
    "# 开启新线程\n",
    "thread1.start()\n",
    "thread2.start()\n",
    "# 等待至线程中止\n",
    "thread1.join()\n",
    "thread2.join()         \n",
    "print (\"退出主线程\")\n"
   ]
  }
 ],
 "metadata": {
  "kernelspec": {
   "display_name": "data_analysis",
   "language": "python",
   "name": "data_analysis"
  },
  "language_info": {
   "codemirror_mode": {
    "name": "ipython",
    "version": 3
   },
   "file_extension": ".py",
   "mimetype": "text/x-python",
   "name": "python",
   "nbconvert_exporter": "python",
   "pygments_lexer": "ipython3",
   "version": "3.6.7"
  }
 },
 "nbformat": 4,
 "nbformat_minor": 2
}
